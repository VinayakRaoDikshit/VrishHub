{
  "nbformat": 4,
  "nbformat_minor": 0,
  "metadata": {
    "colab": {
      "provenance": []
    },
    "kernelspec": {
      "name": "python3",
      "display_name": "Python 3"
    },
    "language_info": {
      "name": "python"
    }
  },
  "cells": [
    {
      "cell_type": "code",
      "execution_count": 101,
      "metadata": {
        "colab": {
          "base_uri": "https://localhost:8080/"
        },
        "id": "Gr0wgW0ekH33",
        "outputId": "9619fd77-7874-4d40-dd36-c33d2f2cc71f"
      },
      "outputs": [
        {
          "output_type": "stream",
          "name": "stdout",
          "text": [
            "Downloading...\n",
            "From: https://drive.google.com/uc?id=14DoImQQ3OHZKgqmKwtBO8qysiZ3lTc1T\n",
            "To: /content/20-04-2022-TO-20-04-2023-M&M-EQ-N.csv\n",
            "100% 26.0k/26.0k [00:00<00:00, 66.3MB/s]\n",
            "Downloading...\n",
            "From: https://drive.google.com/uc?id=1-NQRpLjmTJQsuM9l48wuOHHReqC1GCRA\n",
            "To: /content/20-04-2022-TO-20-04-2023-HDFC-EQ-N.csv\n",
            "100% 26.4k/26.4k [00:00<00:00, 76.5MB/s]\n",
            "Downloading...\n",
            "From: https://drive.google.com/uc?id=1S0-qi3Zb3q_jq4YoboPNYdw2O3-1ZJSs\n",
            "To: /content/20-04-2022-TO-20-04-2023-VADILALIND-EQ-N.csv\n",
            "100% 26.0k/26.0k [00:00<00:00, 73.1MB/s]\n",
            "Downloading...\n",
            "From: https://drive.google.com/uc?id=1eBU6SCbINZiXXJDk4b6CZn8ii8IbgvkX\n",
            "To: /content/20-04-2022-TO-20-04-2023-IOC-EQ-N.csv\n",
            "100% 23.8k/23.8k [00:00<00:00, 40.6MB/s]\n",
            "Downloading...\n",
            "From: https://drive.google.com/uc?id=1iOGEPs-ySJ00KGrxkJT8QgX7E2_v4dqg\n",
            "To: /content/20-04-2022-TO-20-04-2023-JPPOWER-EQ-N.csv\n",
            "100% 23.3k/23.3k [00:00<00:00, 43.4MB/s]\n"
          ]
        }
      ],
      "source": [
        "! gdown 14DoImQQ3OHZKgqmKwtBO8qysiZ3lTc1T           #M&M\n",
        "! gdown 1-NQRpLjmTJQsuM9l48wuOHHReqC1GCRA           #HDFC\n",
        "! gdown 1S0-qi3Zb3q_jq4YoboPNYdw2O3-1ZJSs           #VADILALIND\n",
        "! gdown 1eBU6SCbINZiXXJDk4b6CZn8ii8IbgvkX           #IOC\n",
        "! gdown 1iOGEPs-ySJ00KGrxkJT8QgX7E2_v4dqg           #JPPOWER"
      ]
    },
    {
      "cell_type": "code",
      "source": [
        "import math\n",
        "import datetime \n",
        "import numpy as np\n",
        "import pandas as pd \n",
        "import matplotlib.pyplot as plt\n",
        "plt.style.use('fivethirtyeight')\n",
        "from sklearn.preprocessing import MinMaxScaler\n",
        "\n",
        "import keras \n",
        "from keras import models\n",
        "from keras.models import load_model\n",
        "from keras.models import Sequential\n",
        "from keras.layers import Dense, LSTM"
      ],
      "metadata": {
        "id": "K4fDL1Yclalw"
      },
      "execution_count": 102,
      "outputs": []
    },
    {
      "cell_type": "code",
      "source": [
        "df1=pd.read_csv('20-04-2022-TO-20-04-2023-M&M-EQ-N.csv')\n",
        "df2=pd.read_csv('20-04-2022-TO-20-04-2023-HDFC-EQ-N.csv')\n",
        "df3=pd.read_csv('20-04-2022-TO-20-04-2023-VADILALIND-EQ-N.csv')\n",
        "df4=pd.read_csv('20-04-2022-TO-20-04-2023-IOC-EQ-N.csv')\n",
        "df5=pd.read_csv('20-04-2022-TO-20-04-2023-JPPOWER-EQ-N.csv')"
      ],
      "metadata": {
        "id": "HXS_XxupmNvH"
      },
      "execution_count": 103,
      "outputs": []
    },
    {
      "cell_type": "code",
      "source": [
        "df_list=[df1,df2,df3,df4,df5]\n",
        "data=[None]*len(df_list)            #Creating lists with size the same as that of df_list\n",
        "dataset=[None]*len(df_list)\n",
        "scaled_data=[None]*len(df_list)\n",
        "training_data_len=[None]*len(df_list)\n",
        "train_data=[None]*len(df_list)\n",
        "test_data=[None]*len(df_list)\n",
        "x_train=[]\n",
        "y_train=[]\n",
        "x_test=[]\n",
        "y_test=[]\n",
        "predictions=[]\n",
        "\n",
        "#Create a list of empty lists\n",
        "num_lists = len(df_list)\n",
        "\n",
        "# Create empty lists using a for loop\n",
        "for _ in range(num_lists):\n",
        "    empty_list = []\n",
        "    x_train.append(empty_list)\n",
        "    \n",
        "\n",
        "for _ in range(num_lists):\n",
        "    empty_list = []\n",
        "    y_train.append(empty_list)\n",
        "\n",
        "for _ in range(num_lists):\n",
        "    empty_list = []\n",
        "    x_test.append(empty_list)\n",
        "\n",
        "for _ in range(num_lists):\n",
        "    empty_list = []\n",
        "    y_test.append(empty_list)\n",
        "\n",
        "for _ in range(num_lists):\n",
        "    empty_list = []\n",
        "    predictions.append(empty_list)\n"
      ],
      "metadata": {
        "id": "Da5rKnrxm5gW"
      },
      "execution_count": 104,
      "outputs": []
    },
    {
      "cell_type": "markdown",
      "source": [
        "Cleaner function"
      ],
      "metadata": {
        "id": "1-ZFrTcvnu1q"
      }
    },
    {
      "cell_type": "code",
      "source": [
        "#Function to change the index of dataframe to date\n",
        "def chng_index(df):\n",
        "  dt_li=[]\n",
        "  for i in df.index:\n",
        "    dt_li.append(datetime.datetime.strptime(df['Date  '][i],'%d-%m-%Y').date())\n",
        "  \n",
        "  df.index=dt_li"
      ],
      "metadata": {
        "id": "xRt1ccYxqNYD"
      },
      "execution_count": 105,
      "outputs": []
    },
    {
      "cell_type": "code",
      "source": [
        "#Function to plot the data\n",
        "def plotter(df):\n",
        "  plt.figure(figsize=(16,8))\n",
        "  plt.title('Close price history')\n",
        "  plt.plot(df.index,df['Close Price  '])\n",
        "  plt.xlabel('Date',fontsize=18)\n",
        "  plt.ylabel('Close price '+df['Symbol  '][1],fontsize=18)\n",
        "  plt.show()"
      ],
      "metadata": {
        "id": "4ljZ9Y5Sbp6D"
      },
      "execution_count": 106,
      "outputs": []
    },
    {
      "cell_type": "code",
      "source": [
        "len(x_train[0])"
      ],
      "metadata": {
        "colab": {
          "base_uri": "https://localhost:8080/"
        },
        "id": "N7iixUkBYOiy",
        "outputId": "a109589f-179a-4612-e167-4869f3b1acdb"
      },
      "execution_count": null,
      "outputs": [
        {
          "output_type": "execute_result",
          "data": {
            "text/plain": [
              "0"
            ]
          },
          "metadata": {},
          "execution_count": 76
        }
      ]
    },
    {
      "cell_type": "code",
      "source": [
        "scaled_data[4]"
      ],
      "metadata": {
        "id": "xeHJ7lUAuNJZ"
      },
      "execution_count": null,
      "outputs": []
    },
    {
      "cell_type": "code",
      "source": [
        "#Function to extract the 'Close Price Column of the dataframes and scale the datasets\n",
        "def extract(df,i):\n",
        "  data[i]=df['Close Price  ']\n",
        "  #convert the data into numpy array \n",
        "  dataset[i]=data[i].values\n",
        "  dataset[i]=dataset[i].reshape(-1,1)\n",
        "  scaler=MinMaxScaler(feature_range=(0,1))\n",
        "  scaled_data[i]=scaler.fit_transform(dataset[i])\n",
        "\n",
        "\n"
      ],
      "metadata": {
        "id": "kKZJEHCizGDv"
      },
      "execution_count": 107,
      "outputs": []
    },
    {
      "cell_type": "code",
      "source": [
        "#Fuction to split the x training dataset \n",
        "def split_x_train(var):\n",
        "  training_data_len[var]=math.ceil(len(dataset[var])*0.8)\n",
        "  train_data[var]=scaled_data[var][0:training_data_len[var],:]\n",
        "\n",
        "  #Splitting into x train and y train\n",
        "  #x train will have the sets data values i.e. the past 60 days data divided into sets of (0,59), (1,60), (2,61) etc.\n",
        "  #y train will have the target values, for each set the target value is the closing price of the next day, i.e. for x_train (0,59) the target will be the closing price of 60th day. \n",
        "  for j in range(60, len(train_data[var])):\n",
        "    x_train[var].append(train_data[var][j-60:j,0])\n",
        "    \n"
      ],
      "metadata": {
        "id": "LifJffOfznuo"
      },
      "execution_count": 108,
      "outputs": []
    },
    {
      "cell_type": "code",
      "source": [
        "#Fuction to split the y training dataset \n",
        "def split_y_train(var):\n",
        "  for j in range(60, len(train_data[var])):\n",
        "    y_train[var].append(train_data[var][j,0])"
      ],
      "metadata": {
        "id": "VOLQ29sNZcKs"
      },
      "execution_count": 109,
      "outputs": []
    },
    {
      "cell_type": "code",
      "source": [
        "def convert(i):\n",
        "  #currently x_train and y_train are simply lists, so we convert them to numpy arrays\n",
        "  x_train[i], y_train[i]=np.array(x_train[i]), np.array(y_train[i])"
      ],
      "metadata": {
        "id": "9VvVyg8eFgaf"
      },
      "execution_count": 110,
      "outputs": []
    },
    {
      "cell_type": "code",
      "source": [
        "def re_shp(i) :\n",
        "  x_train[i]=np.reshape(x_train[i],(x_train[i].shape[0],x_train[i].shape[1],1))\n",
        "\n",
        "  #For i=0, this statement is equivalent to np.reshape(x_train,(134,60,1))   134 instances, 60 features\n",
        "  #LSTMs expect a 3D input"
      ],
      "metadata": {
        "id": "BwACpCvZurmQ"
      },
      "execution_count": 111,
      "outputs": []
    },
    {
      "cell_type": "code",
      "source": [
        "#Fuction to split the x testing dataset \n",
        "def split_x_test(i):\n",
        "  test_data[i]=scaled_data[i][training_data_len[i]-60:,:]\n",
        "  for j in range(60, len(test_data[i])):\n",
        "   x_test[i].append(test_data[i][j-60:j,0])\n"
      ],
      "metadata": {
        "id": "izx7Ah6mQzTi"
      },
      "execution_count": 112,
      "outputs": []
    },
    {
      "cell_type": "code",
      "source": [
        "def split_y_test(i):\n",
        "  y_test[i]=dataset[i][training_data_len[i]:, :]\n",
        "  "
      ],
      "metadata": {
        "id": "QkjTygyHVlSr"
      },
      "execution_count": 113,
      "outputs": []
    },
    {
      "cell_type": "code",
      "source": [
        "def conv_x_test(i):\n",
        "#Convert test data set to numpy array\n",
        "  x_test[i]=np.array(x_test[i])\n",
        "#Reshape the data\n",
        "  x_test[i]=np.reshape(x_test[i],(x_test[i].shape[0],x_test[i].shape[1],1))"
      ],
      "metadata": {
        "id": "bUSnIMzOWZ_v"
      },
      "execution_count": 114,
      "outputs": []
    },
    {
      "cell_type": "code",
      "source": [
        "def scale(i):\n",
        "  scaler=MinMaxScaler(feature_range=(0,1))\n",
        "  scaled_data[i]=scaler.fit_transform(dataset[i])\n",
        "  predictions[i]=scaler.inverse_transform(predictions[i])"
      ],
      "metadata": {
        "id": "9afgXZuPVXAe"
      },
      "execution_count": 115,
      "outputs": []
    },
    {
      "cell_type": "code",
      "source": [
        "def cleaning(listt):\n",
        "  for i in range (0,5):\n",
        "    if not(listt[i].isnull().values.any()):\n",
        "      chng_index(listt[i])\n",
        "      # # plotter(listt[i])\n",
        "      extract(listt[i],i)\n",
        "      split_x_train(i)\n",
        "      split_y_train(i)\n",
        "      convert(i)\n",
        "      re_shp(i)\n",
        "      split_x_test(i)\n",
        "      split_y_test(i)\n",
        "      conv_x_test(i)\n",
        "      #scale(i)"
      ],
      "metadata": {
        "id": "mNyIXQK6uUzy"
      },
      "execution_count": 116,
      "outputs": []
    },
    {
      "cell_type": "code",
      "source": [
        "cleaning(df_list)"
      ],
      "metadata": {
        "id": "_-J8LV_pqZEg"
      },
      "execution_count": 117,
      "outputs": []
    },
    {
      "cell_type": "code",
      "source": [
        "print(x_train[0].shape,\"\\n\",y_train[0].shape)"
      ],
      "metadata": {
        "id": "CZeGLmNBG-4O",
        "colab": {
          "base_uri": "https://localhost:8080/"
        },
        "outputId": "57733b37-e041-4bc9-8d5d-1dede30bd8e2"
      },
      "execution_count": 118,
      "outputs": [
        {
          "output_type": "stream",
          "name": "stdout",
          "text": [
            "(134, 60, 1) \n",
            " (134,)\n"
          ]
        }
      ]
    },
    {
      "cell_type": "code",
      "source": [
        "x_train[0]"
      ],
      "metadata": {
        "id": "fLkNxtyViDJR",
        "colab": {
          "base_uri": "https://localhost:8080/"
        },
        "outputId": "105ff849-6556-4acf-f663-6ec594b75aa9"
      },
      "execution_count": 119,
      "outputs": [
        {
          "output_type": "execute_result",
          "data": {
            "text/plain": [
              "array([[[0.03060736],\n",
              "        [0.08751793],\n",
              "        [0.105978  ],\n",
              "        ...,\n",
              "        [0.53065519],\n",
              "        [0.58775705],\n",
              "        [0.57034912]],\n",
              "\n",
              "       [[0.08751793],\n",
              "        [0.105978  ],\n",
              "        [0.07412721],\n",
              "        ...,\n",
              "        [0.58775705],\n",
              "        [0.57034912],\n",
              "        [0.61406026]],\n",
              "\n",
              "       [[0.105978  ],\n",
              "        [0.07412721],\n",
              "        [0.14328073],\n",
              "        ...,\n",
              "        [0.57034912],\n",
              "        [0.61406026],\n",
              "        [0.57465328]],\n",
              "\n",
              "       ...,\n",
              "\n",
              "       [[0.90349115],\n",
              "        [0.82821616],\n",
              "        [0.80698231],\n",
              "        ...,\n",
              "        [0.89210904],\n",
              "        [0.98230512],\n",
              "        [0.93122908]],\n",
              "\n",
              "       [[0.82821616],\n",
              "        [0.80698231],\n",
              "        [0.78986131],\n",
              "        ...,\n",
              "        [0.98230512],\n",
              "        [0.93122908],\n",
              "        [0.93189861]],\n",
              "\n",
              "       [[0.80698231],\n",
              "        [0.78986131],\n",
              "        [0.81578192],\n",
              "        ...,\n",
              "        [0.93122908],\n",
              "        [0.93189861],\n",
              "        [1.        ]]])"
            ]
          },
          "metadata": {},
          "execution_count": 119
        }
      ]
    },
    {
      "cell_type": "code",
      "source": [
        "model1= load_model('M&M.h5')"
      ],
      "metadata": {
        "id": "i48N4LKbKUMm"
      },
      "execution_count": 120,
      "outputs": []
    },
    {
      "cell_type": "code",
      "source": [
        "model1.summary()"
      ],
      "metadata": {
        "id": "XDKmNL78Jgqq",
        "colab": {
          "base_uri": "https://localhost:8080/"
        },
        "outputId": "1ddeca69-4aa7-43e7-d513-f77097954755"
      },
      "execution_count": 121,
      "outputs": [
        {
          "output_type": "stream",
          "name": "stdout",
          "text": [
            "Model: \"sequential\"\n",
            "_________________________________________________________________\n",
            " Layer (type)                Output Shape              Param #   \n",
            "=================================================================\n",
            " lstm (LSTM)                 (None, 60, 50)            10400     \n",
            "                                                                 \n",
            " lstm_1 (LSTM)               (None, 50)                20200     \n",
            "                                                                 \n",
            " dense (Dense)               (None, 25)                1275      \n",
            "                                                                 \n",
            " dense_1 (Dense)             (None, 1)                 26        \n",
            "                                                                 \n",
            "=================================================================\n",
            "Total params: 31,901\n",
            "Trainable params: 31,901\n",
            "Non-trainable params: 0\n",
            "_________________________________________________________________\n"
          ]
        }
      ]
    },
    {
      "cell_type": "code",
      "source": [
        "#Testing the model on the stock it was trained on\n",
        "predictions[0]=model1.predict(x_test[0])\n",
        "scale(0)\n",
        "# predictions[0]=scaler.inverse_transform(predictions[0])"
      ],
      "metadata": {
        "colab": {
          "base_uri": "https://localhost:8080/"
        },
        "id": "5RTjU_eTkal4",
        "outputId": "c5671c90-f36b-4bec-a754-aa24452ce4f8"
      },
      "execution_count": null,
      "outputs": [
        {
          "output_type": "stream",
          "name": "stdout",
          "text": [
            "2/2 [==============================] - 0s 25ms/step\n"
          ]
        }
      ]
    },
    {
      "cell_type": "code",
      "source": [
        "#Transfer learning for HDFC Stock \n",
        "model2_on_1=keras.models.Sequential(model1.layers[:-1])\n",
        "model2_on_1.add(Dense(1))\n"
      ],
      "metadata": {
        "id": "EU9oRcV_J_rg"
      },
      "execution_count": 122,
      "outputs": []
    },
    {
      "cell_type": "code",
      "source": [
        "#Cloning the model1\n",
        "model1_clone = keras.models.clone_model(model1) \n",
        "model1_clone.set_weights(model1.get_weights())"
      ],
      "metadata": {
        "id": "Nc_F3GWfj3eh"
      },
      "execution_count": 123,
      "outputs": []
    },
    {
      "cell_type": "code",
      "source": [
        "#Freezing the new models layers\n",
        "for layer in model2_on_1.layers[:-1]: \n",
        "  layer.trainable = True\n",
        "\n",
        "optimizer=keras.optimizers.Adam(lr=1e-4)\n",
        "model2_on_1.compile(optimizer=optimizer, loss='mean_squared_error')"
      ],
      "metadata": {
        "id": "-TX-uZzZkBeX",
        "colab": {
          "base_uri": "https://localhost:8080/"
        },
        "outputId": "739d7ee8-a480-4c5a-9e66-0f946ff80b6d"
      },
      "execution_count": 128,
      "outputs": [
        {
          "output_type": "stream",
          "name": "stderr",
          "text": [
            "/usr/local/lib/python3.10/dist-packages/keras/optimizers/legacy/adam.py:117: UserWarning: The `lr` argument is deprecated, use `learning_rate` instead.\n",
            "  super().__init__(name, **kwargs)\n"
          ]
        }
      ]
    },
    {
      "cell_type": "code",
      "source": [
        "model2_on_1.fit(x_train[1], y_train[1], batch_size=1, epochs=15)"
      ],
      "metadata": {
        "colab": {
          "base_uri": "https://localhost:8080/"
        },
        "id": "MFWPfskYifDC",
        "outputId": "96a93086-3f91-427e-9e58-a820a5803f41"
      },
      "execution_count": 132,
      "outputs": [
        {
          "output_type": "stream",
          "name": "stdout",
          "text": [
            "Epoch 1/15\n",
            "134/134 [==============================] - 5s 35ms/step - loss: 0.0025\n",
            "Epoch 2/15\n",
            "134/134 [==============================] - 4s 31ms/step - loss: 0.0023\n",
            "Epoch 3/15\n",
            "134/134 [==============================] - 4s 33ms/step - loss: 0.0023\n",
            "Epoch 4/15\n",
            "134/134 [==============================] - 4s 29ms/step - loss: 0.0023\n",
            "Epoch 5/15\n",
            "134/134 [==============================] - 4s 30ms/step - loss: 0.0023\n",
            "Epoch 6/15\n",
            "134/134 [==============================] - 5s 35ms/step - loss: 0.0023\n",
            "Epoch 7/15\n",
            "134/134 [==============================] - 4s 28ms/step - loss: 0.0023\n",
            "Epoch 8/15\n",
            "134/134 [==============================] - 4s 29ms/step - loss: 0.0023\n",
            "Epoch 9/15\n",
            "134/134 [==============================] - 5s 36ms/step - loss: 0.0023\n",
            "Epoch 10/15\n",
            "134/134 [==============================] - 4s 29ms/step - loss: 0.0022\n",
            "Epoch 11/15\n",
            "134/134 [==============================] - 4s 29ms/step - loss: 0.0023\n",
            "Epoch 12/15\n",
            "134/134 [==============================] - 5s 37ms/step - loss: 0.0022\n",
            "Epoch 13/15\n",
            "134/134 [==============================] - 4s 28ms/step - loss: 0.0022\n",
            "Epoch 14/15\n",
            "134/134 [==============================] - 4s 28ms/step - loss: 0.0023\n",
            "Epoch 15/15\n",
            "134/134 [==============================] - 5s 37ms/step - loss: 0.0023\n"
          ]
        },
        {
          "output_type": "execute_result",
          "data": {
            "text/plain": [
              "<keras.callbacks.History at 0x7fc529549f60>"
            ]
          },
          "metadata": {},
          "execution_count": 132
        }
      ]
    },
    {
      "cell_type": "code",
      "source": [
        "predictions[1]=model2_on_1.predict(x_test[1])\n",
        "scale(1)"
      ],
      "metadata": {
        "colab": {
          "base_uri": "https://localhost:8080/"
        },
        "id": "WIYgwdG5nrUd",
        "outputId": "4807c803-5d8e-4bc0-ed91-f025506532ac"
      },
      "execution_count": 133,
      "outputs": [
        {
          "output_type": "stream",
          "name": "stdout",
          "text": [
            "2/2 [==============================] - 0s 48ms/step\n"
          ]
        }
      ]
    },
    {
      "cell_type": "code",
      "source": [
        "rmse=np.sqrt(np.mean(predictions[1]-y_test[1])**2)\n",
        "rmse"
      ],
      "metadata": {
        "colab": {
          "base_uri": "https://localhost:8080/"
        },
        "id": "iniKb3RroAae",
        "outputId": "ab518b2e-17df-45c4-c6ce-9746437bff3b"
      },
      "execution_count": 134,
      "outputs": [
        {
          "output_type": "execute_result",
          "data": {
            "text/plain": [
              "4.328192138671862"
            ]
          },
          "metadata": {},
          "execution_count": 134
        }
      ]
    },
    {
      "cell_type": "code",
      "source": [
        "train=data[1][:training_data_len[1]]\n",
        "valid=data[1][training_data_len[1]:]\n",
        "valid=valid.to_frame(name='Close Price')\n",
        "valid['Predictions']=predictions[1]\n",
        "#Visualize\n",
        "plt.figure(figsize=(16,8))\n",
        "plt.title('Model')\n",
        "plt.xlabel('Date',fontsize=18)\n",
        "plt.ylabel('Close Price Rs.) HDFC', fontsize=18)\n",
        "# plt.plot(train['Close Price '])\n",
        "plt.plot(train) \n",
        "plt.plot(valid[['Close Price', 'Predictions']])\n",
        "plt.legend(['Train', 'Val', 'Predictions'], loc='lower right')\n",
        "plt.show()"
      ],
      "metadata": {
        "colab": {
          "base_uri": "https://localhost:8080/",
          "height": 443
        },
        "id": "abyVsgvNvzgT",
        "outputId": "852abb10-41ab-4c66-f41e-949ee05b7e98"
      },
      "execution_count": 141,
      "outputs": [
        {
          "output_type": "display_data",
          "data": {
            "text/plain": [
              "<Figure size 1600x800 with 1 Axes>"
            ],
            "image/png": "[encoded data removed]"
          },
          "metadata": {}
        }
      ]
    },
    {
      "cell_type": "code",
      "source": [
        "model2_on_1.save('HDFC.h5')"
      ],
      "metadata": {
        "id": "x35yk_cuwLmS"
      },
      "execution_count": 142,
      "outputs": []
    },
    {
      "cell_type": "code",
      "source": [],
      "metadata": {
        "id": "UIusvwiN1TmO"
      },
      "execution_count": null,
      "outputs": []
    }
  ]
}